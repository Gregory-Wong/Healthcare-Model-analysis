{
  "nbformat": 4,
  "nbformat_minor": 0,
  "metadata": {
    "colab": {
      "name": "Naive BayesLinear",
      "provenance": [],
      "authorship_tag": "ABX9TyMl3Apx/qsLLSK+LUc7TiR2",
      "include_colab_link": true
    },
    "kernelspec": {
      "name": "python3",
      "display_name": "Python 3"
    }
  },
  "cells": [
    {
      "cell_type": "markdown",
      "metadata": {
        "id": "view-in-github",
        "colab_type": "text"
      },
      "source": [
        "<a href=\"https://colab.research.google.com/github/Gregory-Wong/Healthcare-Model-analysis/blob/main/Naive_BayesLinear.ipynb\" target=\"_parent\"><img src=\"https://colab.research.google.com/assets/colab-badge.svg\" alt=\"Open In Colab\"/></a>"
      ]
    },
    {
      "cell_type": "code",
      "metadata": {
        "id": "G3qGw8ILD823"
      },
      "source": [
        "#setting up initial packages\n",
        "import numpy as np\n",
        "import pandas as pd\n",
        "from sklearn.model_selection import train_test_split\n",
        "from sklearn.datasets import load_iris\n",
        "import matplotlib.pyplot as plt\n",
        "import seaborn as sns\n",
        "from sklearn.preprocessing import StandardScaler\n",
        "from sklearn.model_selection import RandomizedSearchCV\n",
        "from sklearn import metrics\n",
        "from sklearn.naive_bayes import GaussianNB\n"
      ],
      "execution_count": null,
      "outputs": []
    },
    {
      "cell_type": "code",
      "metadata": {
        "colab": {
          "resources": {
            "http://localhost:8080/nbextensions/google.colab/files.js": {
              "data": "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",
              "ok": true,
              "headers": [
                [
                  "content-type",
                  "application/javascript"
                ]
              ],
              "status": 200,
              "status_text": ""
            }
          },
          "base_uri": "https://localhost:8080/",
          "height": 72
        },
        "id": "3kBQl2JOYvUf",
        "outputId": "9ff3c2f4-0950-4f41-cb3b-5fb6c68fbdc0"
      },
      "source": [
        "#load in dataset\n",
        "from google.colab import files\n",
        "import io\n",
        "uploaded = files.upload()"
      ],
      "execution_count": null,
      "outputs": [
        {
          "output_type": "display_data",
          "data": {
            "text/html": [
              "\n",
              "     <input type=\"file\" id=\"files-c4a44c05-c074-4b6f-bb8c-5729c96ab1c9\" name=\"files[]\" multiple disabled\n",
              "        style=\"border:none\" />\n",
              "     <output id=\"result-c4a44c05-c074-4b6f-bb8c-5729c96ab1c9\">\n",
              "      Upload widget is only available when the cell has been executed in the\n",
              "      current browser session. Please rerun this cell to enable.\n",
              "      </output>\n",
              "      <script src=\"/nbextensions/google.colab/files.js\"></script> "
            ],
            "text/plain": [
              "<IPython.core.display.HTML object>"
            ]
          },
          "metadata": {
            "tags": []
          }
        },
        {
          "output_type": "stream",
          "text": [
            "Saving linear.csv to linear.csv\n"
          ],
          "name": "stdout"
        }
      ]
    },
    {
      "cell_type": "code",
      "metadata": {
        "colab": {
          "base_uri": "https://localhost:8080/",
          "height": 204
        },
        "id": "qU6AZ_JQaFRl",
        "outputId": "1446a93d-012c-4497-dec2-39188f716570"
      },
      "source": [
        "#create/view dataframe\n",
        "df = pd.read_csv(io.BytesIO(uploaded['linear.csv']))\n",
        "df.head()"
      ],
      "execution_count": null,
      "outputs": [
        {
          "output_type": "execute_result",
          "data": {
            "text/html": [
              "<div>\n",
              "<style scoped>\n",
              "    .dataframe tbody tr th:only-of-type {\n",
              "        vertical-align: middle;\n",
              "    }\n",
              "\n",
              "    .dataframe tbody tr th {\n",
              "        vertical-align: top;\n",
              "    }\n",
              "\n",
              "    .dataframe thead th {\n",
              "        text-align: right;\n",
              "    }\n",
              "</style>\n",
              "<table border=\"1\" class=\"dataframe\">\n",
              "  <thead>\n",
              "    <tr style=\"text-align: right;\">\n",
              "      <th></th>\n",
              "      <th>Year</th>\n",
              "      <th>Data_Value</th>\n",
              "      <th>Data_Value_Alt</th>\n",
              "      <th>Confidence_Limit_Low</th>\n",
              "      <th>Confidence_Limit_High</th>\n",
              "      <th>Break_out</th>\n",
              "    </tr>\n",
              "  </thead>\n",
              "  <tbody>\n",
              "    <tr>\n",
              "      <th>0</th>\n",
              "      <td>2011</td>\n",
              "      <td>1.6</td>\n",
              "      <td>1.6</td>\n",
              "      <td>1.1</td>\n",
              "      <td>2.2</td>\n",
              "      <td>Female</td>\n",
              "    </tr>\n",
              "    <tr>\n",
              "      <th>1</th>\n",
              "      <td>2011</td>\n",
              "      <td>1.7</td>\n",
              "      <td>1.7</td>\n",
              "      <td>1.4</td>\n",
              "      <td>2.0</td>\n",
              "      <td>Female</td>\n",
              "    </tr>\n",
              "    <tr>\n",
              "      <th>2</th>\n",
              "      <td>2011</td>\n",
              "      <td>1.7</td>\n",
              "      <td>1.7</td>\n",
              "      <td>1.4</td>\n",
              "      <td>2.1</td>\n",
              "      <td>Female</td>\n",
              "    </tr>\n",
              "    <tr>\n",
              "      <th>3</th>\n",
              "      <td>2011</td>\n",
              "      <td>1.8</td>\n",
              "      <td>1.8</td>\n",
              "      <td>1.5</td>\n",
              "      <td>2.1</td>\n",
              "      <td>Female</td>\n",
              "    </tr>\n",
              "    <tr>\n",
              "      <th>4</th>\n",
              "      <td>2011</td>\n",
              "      <td>1.8</td>\n",
              "      <td>1.8</td>\n",
              "      <td>1.6</td>\n",
              "      <td>2.2</td>\n",
              "      <td>Female</td>\n",
              "    </tr>\n",
              "  </tbody>\n",
              "</table>\n",
              "</div>"
            ],
            "text/plain": [
              "   Year  Data_Value  ...  Confidence_Limit_High  Break_out\n",
              "0  2011         1.6  ...                    2.2     Female\n",
              "1  2011         1.7  ...                    2.0     Female\n",
              "2  2011         1.7  ...                    2.1     Female\n",
              "3  2011         1.8  ...                    2.1     Female\n",
              "4  2011         1.8  ...                    2.2     Female\n",
              "\n",
              "[5 rows x 6 columns]"
            ]
          },
          "metadata": {
            "tags": []
          },
          "execution_count": 19
        }
      ]
    },
    {
      "cell_type": "markdown",
      "metadata": {
        "id": "tnXTgccSeRhJ"
      },
      "source": [
        "**Data Cleaning**"
      ]
    },
    {
      "cell_type": "code",
      "metadata": {
        "colab": {
          "base_uri": "https://localhost:8080/",
          "height": 419
        },
        "id": "BtDAuzGnshv2",
        "outputId": "bed69c1e-202d-46db-de8c-01637602f546"
      },
      "source": [
        "#convert to string\n",
        "df['Break_out'] = df['Break_out'].map({\n",
        "    'Male' :int(0),\n",
        "    'Female' :int(1),\n",
        "    'Elderly Group' :int(2),\n",
        "    'Hispanic' :int(3),\n",
        "    'Middle Group' :int(4),\n",
        "    'Non-Hispanic Asian' :int(5),\n",
        "    'Non-Hispanic Black' :int(6),\n",
        "    'Non-Hispanic White' :int(7),\n",
        "    'Other' :int(8),\n",
        "    'Overall' :int(9),\n",
        "    'Young group' :int(10),\n",
        "    'Young Group' :int(10)})\n",
        "\n",
        "df\n"
      ],
      "execution_count": null,
      "outputs": [
        {
          "output_type": "execute_result",
          "data": {
            "text/html": [
              "<div>\n",
              "<style scoped>\n",
              "    .dataframe tbody tr th:only-of-type {\n",
              "        vertical-align: middle;\n",
              "    }\n",
              "\n",
              "    .dataframe tbody tr th {\n",
              "        vertical-align: top;\n",
              "    }\n",
              "\n",
              "    .dataframe thead th {\n",
              "        text-align: right;\n",
              "    }\n",
              "</style>\n",
              "<table border=\"1\" class=\"dataframe\">\n",
              "  <thead>\n",
              "    <tr style=\"text-align: right;\">\n",
              "      <th></th>\n",
              "      <th>Year</th>\n",
              "      <th>Data_Value</th>\n",
              "      <th>Data_Value_Alt</th>\n",
              "      <th>Confidence_Limit_Low</th>\n",
              "      <th>Confidence_Limit_High</th>\n",
              "      <th>Break_out</th>\n",
              "    </tr>\n",
              "  </thead>\n",
              "  <tbody>\n",
              "    <tr>\n",
              "      <th>0</th>\n",
              "      <td>2011</td>\n",
              "      <td>1.6</td>\n",
              "      <td>1.6</td>\n",
              "      <td>1.1</td>\n",
              "      <td>2.2</td>\n",
              "      <td>1</td>\n",
              "    </tr>\n",
              "    <tr>\n",
              "      <th>1</th>\n",
              "      <td>2011</td>\n",
              "      <td>1.7</td>\n",
              "      <td>1.7</td>\n",
              "      <td>1.4</td>\n",
              "      <td>2.0</td>\n",
              "      <td>1</td>\n",
              "    </tr>\n",
              "    <tr>\n",
              "      <th>2</th>\n",
              "      <td>2011</td>\n",
              "      <td>1.7</td>\n",
              "      <td>1.7</td>\n",
              "      <td>1.4</td>\n",
              "      <td>2.1</td>\n",
              "      <td>1</td>\n",
              "    </tr>\n",
              "    <tr>\n",
              "      <th>3</th>\n",
              "      <td>2011</td>\n",
              "      <td>1.8</td>\n",
              "      <td>1.8</td>\n",
              "      <td>1.5</td>\n",
              "      <td>2.1</td>\n",
              "      <td>1</td>\n",
              "    </tr>\n",
              "    <tr>\n",
              "      <th>4</th>\n",
              "      <td>2011</td>\n",
              "      <td>1.8</td>\n",
              "      <td>1.8</td>\n",
              "      <td>1.6</td>\n",
              "      <td>2.2</td>\n",
              "      <td>1</td>\n",
              "    </tr>\n",
              "    <tr>\n",
              "      <th>...</th>\n",
              "      <td>...</td>\n",
              "      <td>...</td>\n",
              "      <td>...</td>\n",
              "      <td>...</td>\n",
              "      <td>...</td>\n",
              "      <td>...</td>\n",
              "    </tr>\n",
              "    <tr>\n",
              "      <th>85790</th>\n",
              "      <td>2015</td>\n",
              "      <td>97.7</td>\n",
              "      <td>97.7</td>\n",
              "      <td>97.0</td>\n",
              "      <td>98.3</td>\n",
              "      <td>10</td>\n",
              "    </tr>\n",
              "    <tr>\n",
              "      <th>85791</th>\n",
              "      <td>2015</td>\n",
              "      <td>97.7</td>\n",
              "      <td>97.7</td>\n",
              "      <td>97.2</td>\n",
              "      <td>98.1</td>\n",
              "      <td>10</td>\n",
              "    </tr>\n",
              "    <tr>\n",
              "      <th>85792</th>\n",
              "      <td>2015</td>\n",
              "      <td>97.8</td>\n",
              "      <td>97.8</td>\n",
              "      <td>97.3</td>\n",
              "      <td>98.2</td>\n",
              "      <td>10</td>\n",
              "    </tr>\n",
              "    <tr>\n",
              "      <th>85793</th>\n",
              "      <td>2015</td>\n",
              "      <td>98.1</td>\n",
              "      <td>98.1</td>\n",
              "      <td>97.3</td>\n",
              "      <td>98.7</td>\n",
              "      <td>10</td>\n",
              "    </tr>\n",
              "    <tr>\n",
              "      <th>85794</th>\n",
              "      <td>2015</td>\n",
              "      <td>98.1</td>\n",
              "      <td>98.1</td>\n",
              "      <td>97.6</td>\n",
              "      <td>98.4</td>\n",
              "      <td>10</td>\n",
              "    </tr>\n",
              "  </tbody>\n",
              "</table>\n",
              "<p>85795 rows × 6 columns</p>\n",
              "</div>"
            ],
            "text/plain": [
              "       Year  Data_Value  ...  Confidence_Limit_High  Break_out\n",
              "0      2011         1.6  ...                    2.2          1\n",
              "1      2011         1.7  ...                    2.0          1\n",
              "2      2011         1.7  ...                    2.1          1\n",
              "3      2011         1.8  ...                    2.1          1\n",
              "4      2011         1.8  ...                    2.2          1\n",
              "...     ...         ...  ...                    ...        ...\n",
              "85790  2015        97.7  ...                   98.3         10\n",
              "85791  2015        97.7  ...                   98.1         10\n",
              "85792  2015        97.8  ...                   98.2         10\n",
              "85793  2015        98.1  ...                   98.7         10\n",
              "85794  2015        98.1  ...                   98.4         10\n",
              "\n",
              "[85795 rows x 6 columns]"
            ]
          },
          "metadata": {
            "tags": []
          },
          "execution_count": 20
        }
      ]
    },
    {
      "cell_type": "code",
      "metadata": {
        "colab": {
          "base_uri": "https://localhost:8080/"
        },
        "id": "49XUA5cgdQ8l",
        "outputId": "3f078633-2f6a-4ad8-c12f-9c8db8ce535b"
      },
      "source": [
        "#check for null values\n",
        "df.isna().sum()"
      ],
      "execution_count": null,
      "outputs": [
        {
          "output_type": "execute_result",
          "data": {
            "text/plain": [
              "Year                         0\n",
              "Data_Value               28768\n",
              "Data_Value_Alt               0\n",
              "Confidence_Limit_Low     30162\n",
              "Confidence_Limit_High    30162\n",
              "Break_out                    0\n",
              "dtype: int64"
            ]
          },
          "metadata": {
            "tags": []
          },
          "execution_count": 21
        }
      ]
    },
    {
      "cell_type": "code",
      "metadata": {
        "id": "flld4oDCygEN"
      },
      "source": [
        "#Fill Na with mean of the column\n",
        "#Confidence Limit High\n",
        "df['Confidence_Limit_High'] = df['Confidence_Limit_High'].fillna(df['Confidence_Limit_High'].mean())\n",
        "\n",
        "#Confidence Limit Low\n",
        "df['Confidence_Limit_Low'] = df['Confidence_Limit_Low'].fillna(df['Confidence_Limit_Low'].mean())\n",
        "\n",
        "#Data Value\n",
        "df['Data_Value'] = df['Data_Value'].fillna(df['Data_Value'].mean())"
      ],
      "execution_count": null,
      "outputs": []
    },
    {
      "cell_type": "code",
      "metadata": {
        "colab": {
          "base_uri": "https://localhost:8080/"
        },
        "id": "J2tpyMXzzpG2",
        "outputId": "56463cf9-b64e-4d6b-c319-0b6a36acd975"
      },
      "source": [
        "#check for null values again\n",
        "df.isna().sum()"
      ],
      "execution_count": null,
      "outputs": [
        {
          "output_type": "execute_result",
          "data": {
            "text/plain": [
              "Year                     0\n",
              "Data_Value               0\n",
              "Data_Value_Alt           0\n",
              "Confidence_Limit_Low     0\n",
              "Confidence_Limit_High    0\n",
              "Break_out                0\n",
              "dtype: int64"
            ]
          },
          "metadata": {
            "tags": []
          },
          "execution_count": 23
        }
      ]
    },
    {
      "cell_type": "code",
      "metadata": {
        "colab": {
          "base_uri": "https://localhost:8080/"
        },
        "id": "OuGG9xDjaN5f",
        "outputId": "4d2d40f6-fbf9-452e-cde3-2a8f8794a69d"
      },
      "source": [
        "#look at data types\n",
        "df.info()"
      ],
      "execution_count": null,
      "outputs": [
        {
          "output_type": "stream",
          "text": [
            "<class 'pandas.core.frame.DataFrame'>\n",
            "RangeIndex: 85795 entries, 0 to 85794\n",
            "Data columns (total 6 columns):\n",
            " #   Column                 Non-Null Count  Dtype  \n",
            "---  ------                 --------------  -----  \n",
            " 0   Year                   85795 non-null  int64  \n",
            " 1   Data_Value             85795 non-null  float64\n",
            " 2   Data_Value_Alt         85795 non-null  float64\n",
            " 3   Confidence_Limit_Low   85795 non-null  float64\n",
            " 4   Confidence_Limit_High  85795 non-null  float64\n",
            " 5   Break_out              85795 non-null  int64  \n",
            "dtypes: float64(4), int64(2)\n",
            "memory usage: 3.9 MB\n"
          ],
          "name": "stdout"
        }
      ]
    },
    {
      "cell_type": "code",
      "metadata": {
        "id": "QuXDnqaW0BtZ"
      },
      "source": [
        "#converty float to in\n",
        "df['Data_Value_Alt'] = df['Data_Value_Alt'].astype(int)\n",
        "df['Data_Value'] = df['Data_Value'].astype(int)\n",
        "df['Confidence_Limit_Low'] = df['Confidence_Limit_Low'].astype(int)\n",
        "df['Confidence_Limit_High'] = df['Confidence_Limit_High'].astype(int)"
      ],
      "execution_count": null,
      "outputs": []
    },
    {
      "cell_type": "code",
      "metadata": {
        "colab": {
          "base_uri": "https://localhost:8080/"
        },
        "id": "e3R5VXSn0cLV",
        "outputId": "a14e747e-e111-4332-ef34-2a434e896026"
      },
      "source": [
        "#Check data type agin\n",
        "df.info()"
      ],
      "execution_count": null,
      "outputs": [
        {
          "output_type": "stream",
          "text": [
            "<class 'pandas.core.frame.DataFrame'>\n",
            "RangeIndex: 85795 entries, 0 to 85794\n",
            "Data columns (total 6 columns):\n",
            " #   Column                 Non-Null Count  Dtype\n",
            "---  ------                 --------------  -----\n",
            " 0   Year                   85795 non-null  int64\n",
            " 1   Data_Value             85795 non-null  int64\n",
            " 2   Data_Value_Alt         85795 non-null  int64\n",
            " 3   Confidence_Limit_Low   85795 non-null  int64\n",
            " 4   Confidence_Limit_High  85795 non-null  int64\n",
            " 5   Break_out              85795 non-null  int64\n",
            "dtypes: int64(6)\n",
            "memory usage: 3.9 MB\n"
          ],
          "name": "stdout"
        }
      ]
    },
    {
      "cell_type": "code",
      "metadata": {
        "colab": {
          "base_uri": "https://localhost:8080/",
          "height": 297
        },
        "id": "S4Z8WnhzaWDs",
        "outputId": "d9ab6e06-e59a-4421-b53d-a153d6c51dfc"
      },
      "source": [
        "#stat breakdown\n",
        "df.describe()"
      ],
      "execution_count": null,
      "outputs": [
        {
          "output_type": "execute_result",
          "data": {
            "text/html": [
              "<div>\n",
              "<style scoped>\n",
              "    .dataframe tbody tr th:only-of-type {\n",
              "        vertical-align: middle;\n",
              "    }\n",
              "\n",
              "    .dataframe tbody tr th {\n",
              "        vertical-align: top;\n",
              "    }\n",
              "\n",
              "    .dataframe thead th {\n",
              "        text-align: right;\n",
              "    }\n",
              "</style>\n",
              "<table border=\"1\" class=\"dataframe\">\n",
              "  <thead>\n",
              "    <tr style=\"text-align: right;\">\n",
              "      <th></th>\n",
              "      <th>Year</th>\n",
              "      <th>Data_Value</th>\n",
              "      <th>Data_Value_Alt</th>\n",
              "      <th>Confidence_Limit_Low</th>\n",
              "      <th>Confidence_Limit_High</th>\n",
              "      <th>Break_out</th>\n",
              "    </tr>\n",
              "  </thead>\n",
              "  <tbody>\n",
              "    <tr>\n",
              "      <th>count</th>\n",
              "      <td>85795.000000</td>\n",
              "      <td>85795.000000</td>\n",
              "      <td>85795.000000</td>\n",
              "      <td>85795.000000</td>\n",
              "      <td>85795.000000</td>\n",
              "      <td>85795.000000</td>\n",
              "    </tr>\n",
              "    <tr>\n",
              "      <th>mean</th>\n",
              "      <td>2013.000117</td>\n",
              "      <td>33.073198</td>\n",
              "      <td>21.484096</td>\n",
              "      <td>30.032496</td>\n",
              "      <td>36.275529</td>\n",
              "      <td>5.272452</td>\n",
              "    </tr>\n",
              "    <tr>\n",
              "      <th>std</th>\n",
              "      <td>1.414181</td>\n",
              "      <td>23.439054</td>\n",
              "      <td>28.590378</td>\n",
              "      <td>22.505048</td>\n",
              "      <td>23.755623</td>\n",
              "      <td>3.319036</td>\n",
              "    </tr>\n",
              "    <tr>\n",
              "      <th>min</th>\n",
              "      <td>2011.000000</td>\n",
              "      <td>0.000000</td>\n",
              "      <td>-2.000000</td>\n",
              "      <td>0.000000</td>\n",
              "      <td>0.000000</td>\n",
              "      <td>0.000000</td>\n",
              "    </tr>\n",
              "    <tr>\n",
              "      <th>25%</th>\n",
              "      <td>2012.000000</td>\n",
              "      <td>16.000000</td>\n",
              "      <td>-1.000000</td>\n",
              "      <td>14.000000</td>\n",
              "      <td>20.000000</td>\n",
              "      <td>2.000000</td>\n",
              "    </tr>\n",
              "    <tr>\n",
              "      <th>50%</th>\n",
              "      <td>2013.000000</td>\n",
              "      <td>33.000000</td>\n",
              "      <td>8.000000</td>\n",
              "      <td>30.000000</td>\n",
              "      <td>36.000000</td>\n",
              "      <td>5.000000</td>\n",
              "    </tr>\n",
              "    <tr>\n",
              "      <th>75%</th>\n",
              "      <td>2014.000000</td>\n",
              "      <td>33.000000</td>\n",
              "      <td>33.000000</td>\n",
              "      <td>30.000000</td>\n",
              "      <td>37.000000</td>\n",
              "      <td>8.000000</td>\n",
              "    </tr>\n",
              "    <tr>\n",
              "      <th>max</th>\n",
              "      <td>2015.000000</td>\n",
              "      <td>99.000000</td>\n",
              "      <td>99.000000</td>\n",
              "      <td>99.000000</td>\n",
              "      <td>99.000000</td>\n",
              "      <td>10.000000</td>\n",
              "    </tr>\n",
              "  </tbody>\n",
              "</table>\n",
              "</div>"
            ],
            "text/plain": [
              "               Year    Data_Value  ...  Confidence_Limit_High     Break_out\n",
              "count  85795.000000  85795.000000  ...           85795.000000  85795.000000\n",
              "mean    2013.000117     33.073198  ...              36.275529      5.272452\n",
              "std        1.414181     23.439054  ...              23.755623      3.319036\n",
              "min     2011.000000      0.000000  ...               0.000000      0.000000\n",
              "25%     2012.000000     16.000000  ...              20.000000      2.000000\n",
              "50%     2013.000000     33.000000  ...              36.000000      5.000000\n",
              "75%     2014.000000     33.000000  ...              37.000000      8.000000\n",
              "max     2015.000000     99.000000  ...              99.000000     10.000000\n",
              "\n",
              "[8 rows x 6 columns]"
            ]
          },
          "metadata": {
            "tags": []
          },
          "execution_count": 27
        }
      ]
    },
    {
      "cell_type": "code",
      "metadata": {
        "id": "DGBLQyMnfOCw"
      },
      "source": [
        "#Split data set\n",
        "x = df.drop(['Data_Value'], axis = 1)\n",
        "y = df.pop('Data_Value')"
      ],
      "execution_count": null,
      "outputs": []
    },
    {
      "cell_type": "code",
      "metadata": {
        "id": "Q8KU84V5gogI"
      },
      "source": [
        "#Split the dataset\n",
        "x_train, x_test, y_train, y_test = train_test_split(x, y, test_size=0.30, random_state=1)"
      ],
      "execution_count": null,
      "outputs": []
    },
    {
      "cell_type": "markdown",
      "metadata": {
        "id": "XnmKl35X19Y8"
      },
      "source": [
        "Navie Bayes Model"
      ]
    },
    {
      "cell_type": "code",
      "metadata": {
        "id": "AUEy7ihng2EE"
      },
      "source": [
        "#scale the data \n",
        "#string to float caucasian\n",
        "sc = StandardScaler()\n",
        "x_train = sc.fit_transform(x_train)\n",
        "x_test = sc.transform(x_test)"
      ],
      "execution_count": null,
      "outputs": []
    },
    {
      "cell_type": "code",
      "metadata": {
        "colab": {
          "base_uri": "https://localhost:8080/"
        },
        "id": "KKpHV9ZGhbdg",
        "outputId": "9cef7a67-a692-4d6b-ee92-0da5110ab6e2"
      },
      "source": [
        "#preform LDA\n",
        "NB_model = GaussianNB()\n",
        "\n",
        "# fit the model\n",
        "NB_model.fit(x_train, y_train)\n",
        "\n",
        "y_predict_NB = NB_model.predict(x_test)\n",
        "\n",
        "# model score\n",
        "predict_train_NB = NB_model.predict(x_train)\n",
        "predict_test_NB = NB_model.predict(x_test)\n",
        "\n",
        "# accuracy score\n",
        "NB_train_score = NB_model.score(x_train,y_train)\n",
        "NB_test_score = NB_model.score(x_test,y_test)\n",
        "\n",
        "# f1-score\n",
        "NB_f1_score = metrics.f1_score(y_test,predict_test_NB, average=None)\n",
        "NB_recall = metrics.recall_score(y_test, predict_test_NB, average=None)\n",
        "\n",
        "print('Accuracy on Train set',NB_train_score)\n",
        "print('Accuracy on Test set',NB_test_score)\n",
        "print('F1-score on Test set:',NB_f1_score)\n",
        "print(metrics.classification_report(y_test, predict_test_NB))"
      ],
      "execution_count": null,
      "outputs": [
        {
          "output_type": "stream",
          "text": [
            "Accuracy on Train set 0.992190622086053\n",
            "Accuracy on Test set 0.9912972531955399\n",
            "F1-score on Test set: [0.83018868 0.97832817 0.98933902 0.9893438  0.98028552 0.98231827\n",
            " 0.99143207 0.98919568 0.98412698 0.97662338 0.98998569 0.99365079\n",
            " 0.9955157  0.99095023 0.98492462 0.99481865 0.99270073 0.9800995\n",
            " 0.98525074 0.99164345 0.97391304 0.97852029 0.98617512 0.99775281\n",
            " 1.         1.         1.         1.         1.         1.\n",
            " 1.         1.         1.         0.98748883 1.         1.\n",
            " 1.         1.         1.         1.         1.         1.\n",
            " 1.         1.         1.         1.         1.         1.\n",
            " 1.         1.         1.         1.         1.         1.\n",
            " 1.         1.         1.         1.         1.         1.\n",
            " 1.         1.         1.         1.         1.         1.\n",
            " 1.         1.         1.         1.         1.         1.\n",
            " 1.         1.         1.         1.         1.         1.\n",
            " 1.         1.         1.         1.         1.         1.\n",
            " 1.         1.         1.         1.         0.98901099 1.\n",
            " 1.         1.         1.         1.         1.         1.\n",
            " 1.         1.         1.         1.        ]\n",
            "              precision    recall  f1-score   support\n",
            "\n",
            "           0       1.00      0.71      0.83        62\n",
            "           1       1.00      0.96      0.98       165\n",
            "           2       1.00      0.98      0.99       711\n",
            "           3       1.00      0.98      0.99       901\n",
            "           4       1.00      0.96      0.98       750\n",
            "           5       1.00      0.97      0.98       518\n",
            "           6       1.00      0.98      0.99       412\n",
            "           7       1.00      0.98      0.99       421\n",
            "           8       1.00      0.97      0.98       448\n",
            "           9       1.00      0.95      0.98       394\n",
            "          10       1.00      0.98      0.99       353\n",
            "          11       1.00      0.99      0.99       317\n",
            "          12       1.00      0.99      1.00       224\n",
            "          13       1.00      0.98      0.99       223\n",
            "          14       1.00      0.97      0.98       202\n",
            "          15       1.00      0.99      0.99       194\n",
            "          16       1.00      0.99      0.99       207\n",
            "          17       1.00      0.96      0.98       205\n",
            "          18       1.00      0.97      0.99       172\n",
            "          19       1.00      0.98      0.99       181\n",
            "          20       1.00      0.95      0.97       177\n",
            "          21       1.00      0.96      0.98       214\n",
            "          22       1.00      0.97      0.99       220\n",
            "          23       1.00      1.00      1.00       223\n",
            "          24       1.00      1.00      1.00       240\n",
            "          25       1.00      1.00      1.00       258\n",
            "          26       1.00      1.00      1.00       309\n",
            "          27       1.00      1.00      1.00       293\n",
            "          28       1.00      1.00      1.00       315\n",
            "          29       1.00      1.00      1.00       325\n",
            "          30       1.00      1.00      1.00       321\n",
            "          31       1.00      1.00      1.00       294\n",
            "          32       1.00      1.00      1.00       272\n",
            "          33       0.98      1.00      0.99      8840\n",
            "          34       1.00      1.00      1.00       245\n",
            "          35       1.00      1.00      1.00       262\n",
            "          36       1.00      1.00      1.00       249\n",
            "          37       1.00      1.00      1.00       163\n",
            "          38       1.00      1.00      1.00       166\n",
            "          39       1.00      1.00      1.00       136\n",
            "          40       1.00      1.00      1.00       134\n",
            "          41       1.00      1.00      1.00        93\n",
            "          42       1.00      1.00      1.00       100\n",
            "          43       1.00      1.00      1.00        85\n",
            "          44       1.00      1.00      1.00        64\n",
            "          45       1.00      1.00      1.00        54\n",
            "          46       1.00      1.00      1.00        45\n",
            "          47       1.00      1.00      1.00        41\n",
            "          48       1.00      1.00      1.00        40\n",
            "          49       1.00      1.00      1.00        25\n",
            "          50       1.00      1.00      1.00        41\n",
            "          51       1.00      1.00      1.00        42\n",
            "          52       1.00      1.00      1.00        39\n",
            "          53       1.00      1.00      1.00        42\n",
            "          54       1.00      1.00      1.00        53\n",
            "          55       1.00      1.00      1.00        38\n",
            "          56       1.00      1.00      1.00        45\n",
            "          57       1.00      1.00      1.00        55\n",
            "          58       1.00      1.00      1.00        64\n",
            "          59       1.00      1.00      1.00        50\n",
            "          60       1.00      1.00      1.00        57\n",
            "          61       1.00      1.00      1.00        70\n",
            "          62       1.00      1.00      1.00        44\n",
            "          63       1.00      1.00      1.00        54\n",
            "          64       1.00      1.00      1.00        71\n",
            "          65       1.00      1.00      1.00        75\n",
            "          66       1.00      1.00      1.00        66\n",
            "          67       1.00      1.00      1.00        79\n",
            "          68       1.00      1.00      1.00        81\n",
            "          69       1.00      1.00      1.00        91\n",
            "          70       1.00      1.00      1.00        91\n",
            "          71       1.00      1.00      1.00       101\n",
            "          72       1.00      1.00      1.00       111\n",
            "          73       1.00      1.00      1.00       138\n",
            "          74       1.00      1.00      1.00       138\n",
            "          75       1.00      1.00      1.00       131\n",
            "          76       1.00      1.00      1.00       158\n",
            "          77       1.00      1.00      1.00       159\n",
            "          78       1.00      1.00      1.00       157\n",
            "          79       1.00      1.00      1.00       160\n",
            "          80       1.00      1.00      1.00       177\n",
            "          81       1.00      1.00      1.00       147\n",
            "          82       1.00      1.00      1.00       153\n",
            "          83       1.00      1.00      1.00       152\n",
            "          84       1.00      1.00      1.00       135\n",
            "          85       1.00      1.00      1.00       136\n",
            "          86       1.00      1.00      1.00        98\n",
            "          87       1.00      1.00      1.00        85\n",
            "          88       1.00      0.98      0.99        46\n",
            "          89       1.00      1.00      1.00        44\n",
            "          90       1.00      1.00      1.00        42\n",
            "          91       1.00      1.00      1.00        48\n",
            "          92       1.00      1.00      1.00        56\n",
            "          93       1.00      1.00      1.00        86\n",
            "          94       1.00      1.00      1.00       160\n",
            "          95       1.00      1.00      1.00       159\n",
            "          96       1.00      1.00      1.00       119\n",
            "          97       1.00      1.00      1.00        84\n",
            "          98       1.00      1.00      1.00        41\n",
            "          99       1.00      1.00      1.00         7\n",
            "\n",
            "    accuracy                           0.99     25739\n",
            "   macro avg       1.00      0.99      1.00     25739\n",
            "weighted avg       0.99      0.99      0.99     25739\n",
            "\n"
          ],
          "name": "stdout"
        }
      ]
    }
  ]
}